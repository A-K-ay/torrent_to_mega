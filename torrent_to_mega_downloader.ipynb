{
  "cells": [
    {
      "cell_type": "markdown",
      "metadata": {
        "id": "view-in-github",
        "colab_type": "text"
      },
      "source": [
        "<a href=\"https://colab.research.google.com/github/A-K-ay/torrent_to_mega/blob/main/torrent_to_mega_downloader.ipynb\" target=\"_parent\"><img src=\"https://colab.research.google.com/assets/colab-badge.svg\" alt=\"Open In Colab\"/></a>"
      ]
    },
    {
      "cell_type": "markdown",
      "metadata": {
        "id": "aQuWDmfm9YOi"
      },
      "source": [
        "# Torrent To Mega"
      ]
    },
    {
      "cell_type": "markdown",
      "source": [
        "### Add Required User Inputs"
      ],
      "metadata": {
        "id": "4bMk50Tf6jzk"
      }
    },
    {
      "cell_type": "code",
      "source": [
        "# Mega Credentials\n",
        "\n",
        "megaEmail = \"\" #Email/Username\n",
        "megaPassword = \"\"    #Password\n",
        "\n",
        "# Torrent Magnet Link\n",
        "torrentMagentLink = \"\"\n"
      ],
      "metadata": {
        "id": "15WsrpVH6iXk"
      },
      "execution_count": null,
      "outputs": []
    },
    {
      "cell_type": "markdown",
      "metadata": {
        "id": "BgDNywl3sNx4"
      },
      "source": [
        "### Import Dependencies\n"
      ]
    },
    {
      "cell_type": "code",
      "execution_count": null,
      "metadata": {
        "colab": {
          "base_uri": "https://localhost:8080/"
        },
        "id": "m6hF0emftx4h",
        "outputId": "d1e6c144-053a-4492-96e8-568ac01396b5"
      },
     "outputs": [],
      "source": [
        "!apt install python3-libtorrent"
      ]
    },
    {
      "cell_type": "code",
      "execution_count": null,
      "metadata": {
        "id": "6GKPDdK9S4jY"
      },
      "outputs": [],
      "source": [
        "!pip install mega.py"
      ]
    },
    {
      "cell_type": "markdown",
      "metadata": {
        "id": "tqKcWHZcYRIA"
      },
      "source": [
        "### Code to download torrent"
      ]
    },
    {
      "cell_type": "code",
      "execution_count": null,
      "metadata": {
        "colab": {
          "base_uri": "https://localhost:8080/"
        },
        "id": "b09BxnANO2ep",
        "outputId": "c72577d3-cd9e-42fe-c79c-95ec8d492c7d"
      },
      "outputs": [],
      "source": [
        "import libtorrent as lt\n",
        "import time\n",
        "import datetime\n",
        "\n",
        "ses = lt.session()\n",
        "ses.listen_on(6881, 6891)\n",
        "params = {\n",
        "    'save_path': '/torrents',\n",
        "    'storage_mode': lt.storage_mode_t(2),\n",
        "    'paused': False,\n",
        "    'auto_managed': True,\n",
        "    'duplicate_is_error': True}\n",
        "print(torrentMagentLink)\n",
        "\n",
        "handle = lt.add_magnet_uri(ses, torrentMagentLink, params)\n",
        "ses.start_dht()\n",
        "\n",
        "begin = time.time()\n",
        "print(datetime.datetime.now())\n",
        "\n",
        "print ('Downloading Metadata...')\n",
        "while (not handle.has_metadata()):\n",
        "    time.sleep(1)\n",
        "print ('Got Metadata, Starting Torrent Download...')\n",
        "\n",
        "torrentFolderName = handle.name()\n",
        "print(\"Starting\", handle.name())\n",
        "\n",
        "while (handle.status().state != lt.torrent_status.seeding):\n",
        "    s = handle.status()\n",
        "    state_str = ['queued', 'checking', 'downloading metadata', \\\n",
        "            'downloading', 'finished', 'seeding', 'allocating']\n",
        "    print ('%.2f%% complete (down: %.1f kb/s up: %.1f kB/s peers: %d) %s ' % \\\n",
        "            (s.progress * 100, s.download_rate / 1000, s.upload_rate / 1000, \\\n",
        "            s.num_peers, state_str[s.state]))\n",
        "    time.sleep(5)\n",
        "\n",
        "end = time.time()\n",
        "print(handle.name(), \"COMPLETE\")\n",
        "\n",
        "print(\"Elapsed Time: \",int((end-begin)//60),\"min :\", int((end-begin)%60), \"sec\")\n",
        "\n",
        "print(datetime.datetime.now())"
      ]
    },
    {
      "cell_type": "code",
      "source": [],
      "metadata": {
        "id": "OIVjlV898MVs"
      },
      "execution_count": null,
      "outputs": []
    },
    {
      "cell_type": "markdown",
      "metadata": {
        "id": "KmsrjllZrcXv"
      },
      "source": [
        "### Create a Zip of the downloaded torrent"
      ]
    },
    {
      "cell_type": "code",
      "execution_count": null,
      "metadata": {
        "colab": {
          "base_uri": "https://localhost:8080/"
        },
        "id": "E8Y8Yo7JiS9-",
        "outputId": "b0c6a224-fdb3-407e-bb20-c24b38a53ce5"
      },
      "outputs": [],
      "source": [
        "import shutil\n",
        "begin = time.time()\n",
        "shutil.make_archive(torrentFolderName, 'zip', \"/torrents/\"+torrentFolderName)\n",
        "end = time.time()\n",
        "print(\"Compression Successful\")\n",
        "print(\"Elapsed Time: \",int((end-begin)//60),\"min :\", int((end-begin)%60), \"sec\")\n"
      ]
    },
    {
      "cell_type": "markdown",
      "metadata": {
        "id": "k0EvgywVrP_e"
      },
      "source": [
        "### Upload Zip To Mega"
      ]
    },
    {
      "cell_type": "code",
      "execution_count": null,
      "metadata": {
        "id": "sIbtOK28TAfb"
      },
      "outputs": [],
      "source": [
        "from mega import Mega\n",
        "mega = Mega()\n",
        "\n",
        "# Login\n",
        "# Add your credentials here\n",
        "\n",
        "m = mega.login(megaEmail,megaPassword)\n",
        "\n",
        "\n",
        "begin = time.time()\n",
        "\n",
        "# Upload File\n",
        "file = m.upload('/content/'+torrentFolderName+\".zip\")\n",
        "end = time.time()\n",
        "print(torrentFolderName, \"COMPLETE\")\n",
        "\n",
        "print(\"Elapsed Time: \",int((end-begin)//60),\"min :\", int((end-begin)%60), \"sec\")\n"
      ]
    }
  ],
  "metadata": {
    "colab": {
      "provenance": [],
      "toc_visible": true,
      "include_colab_link": true
    },
    "kernelspec": {
      "display_name": "Python 3",
      "name": "python3"
    }
  },
  "nbformat": 4,
  "nbformat_minor": 0
}
