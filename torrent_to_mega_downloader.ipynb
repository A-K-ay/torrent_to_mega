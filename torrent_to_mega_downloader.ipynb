{
  "cells": [
    {
      "cell_type": "markdown",
      "metadata": {
        "id": "view-in-github",
        "colab_type": "text"
      },
      "source": [
        "<a href=\"https://colab.research.google.com/github/A-K-ay/torrent_to_mega/blob/main/torrent_to_mega_downloader.ipynb\" target=\"_parent\"><img src=\"https://colab.research.google.com/assets/colab-badge.svg\" alt=\"Open In Colab\"/></a>"
      ]
    },
    {
      "cell_type": "markdown",
      "metadata": {
        "id": "aQuWDmfm9YOi"
      },
      "source": [
        "# Torrent To Mega"
      ]
    },
    {
      "cell_type": "markdown",
      "source": [
        "### Add Required User Inputs"
      ],
      "metadata": {
        "id": "4bMk50Tf6jzk"
      }
    },
    {
      "cell_type": "code",
      "source": [
        "# Mega Credentials\n",
        "\n",
        "megaEmail = \"\" #Email/Username\n",
        "megaPassword = \"\"    #Password\n",
        "\n",
        "# Torrent Magnet Link\n",
        "torrentMagentLink = \"\"\n"
      ],
      "metadata": {
        "id": "15WsrpVH6iXk"
      },
      "execution_count": null,
      "outputs": []
    },
    {
      "cell_type": "markdown",
      "metadata": {
        "id": "BgDNywl3sNx4"
      },
      "source": [
        "### Import Dependencies\n"
      ]
    },
    {
      "cell_type": "code",
      "execution_count": null,
      "metadata": {
        "colab": {
          "base_uri": "https://localhost:8080/"
        },
        "id": "m6hF0emftx4h",
        "outputId": "d1e6c144-053a-4492-96e8-568ac01396b5"
      },
      "outputs": [
        {
          "output_type": "stream",
          "name": "stdout",
          "text": [
            "Reading package lists... Done\n",
            "Building dependency tree       \n",
            "Reading state information... Done\n",
            "The following additional packages will be installed:\n",
            "  libtorrent-rasterbar9\n",
            "Suggested packages:\n",
            "  libtorrent-rasterbar-dbg\n",
            "The following NEW packages will be installed:\n",
            "  libtorrent-rasterbar9 python3-libtorrent\n",
            "0 upgraded, 2 newly installed, 0 to remove and 23 not upgraded.\n",
            "Need to get 1,704 kB of archives.\n",
            "After this operation, 6,479 kB of additional disk space will be used.\n",
            "Get:1 http://archive.ubuntu.com/ubuntu focal/universe amd64 libtorrent-rasterbar9 amd64 1.1.13-1.1build2 [1,368 kB]\n",
            "Get:2 http://archive.ubuntu.com/ubuntu focal/universe amd64 python3-libtorrent amd64 1.1.13-1.1build2 [336 kB]\n",
            "Fetched 1,704 kB in 2s (1,049 kB/s)\n",
            "Selecting previously unselected package libtorrent-rasterbar9.\n",
            "(Reading database ... 129506 files and directories currently installed.)\n",
            "Preparing to unpack .../libtorrent-rasterbar9_1.1.13-1.1build2_amd64.deb ...\n",
            "Unpacking libtorrent-rasterbar9 (1.1.13-1.1build2) ...\n",
            "Selecting previously unselected package python3-libtorrent.\n",
            "Preparing to unpack .../python3-libtorrent_1.1.13-1.1build2_amd64.deb ...\n",
            "Unpacking python3-libtorrent (1.1.13-1.1build2) ...\n",
            "Setting up libtorrent-rasterbar9 (1.1.13-1.1build2) ...\n",
            "Setting up python3-libtorrent (1.1.13-1.1build2) ...\n",
            "Processing triggers for libc-bin (2.31-0ubuntu9.9) ...\n"
          ]
        }
      ],
      "source": [
        "!apt install python3-libtorrent"
      ]
    },
    {
      "cell_type": "code",
      "execution_count": null,
      "metadata": {
        "id": "6GKPDdK9S4jY"
      },
      "outputs": [],
      "source": [
        "!pip install mega.py"
      ]
    },
    {
      "cell_type": "markdown",
      "metadata": {
        "id": "tqKcWHZcYRIA"
      },
      "source": [
        "### Code to download torrent"
      ]
    },
    {
      "cell_type": "code",
      "execution_count": null,
      "metadata": {
        "colab": {
          "base_uri": "https://localhost:8080/"
        },
        "id": "b09BxnANO2ep",
        "outputId": "c72577d3-cd9e-42fe-c79c-95ec8d492c7d"
      },
      "outputs": [
        {
          "output_type": "stream",
          "name": "stdout",
          "text": [
            "https://yts.lt/torrent/download/866BDCFA006930A718ADBC21D8CAE1F2C7F9D8B3\n",
            "2023-01-25 08:02:28.164601\n",
            "Downloading Metadata...\n",
            "Got Metadata, Starting Torrent Download...\n",
            "Starting Avengers Infinity War (2018) [BluRay] [1080p] [YTS.AM]\n",
            "0.00% complete (down: 0.0 kb/s up: 0.0 kB/s peers: 0) downloading \n",
            "0.13% complete (down: 753.2 kb/s up: 25.5 kB/s peers: 14) downloading \n",
            "0.79% complete (down: 2760.5 kb/s up: 91.4 kB/s peers: 21) downloading \n",
            "1.46% complete (down: 3469.0 kb/s up: 113.4 kB/s peers: 17) downloading \n",
            "2.04% complete (down: 3207.0 kb/s up: 111.6 kB/s peers: 14) downloading \n",
            "2.59% complete (down: 2985.8 kb/s up: 112.9 kB/s peers: 23) downloading \n",
            "3.18% complete (down: 3114.8 kb/s up: 118.3 kB/s peers: 76) downloading \n",
            "3.60% complete (down: 2705.5 kb/s up: 123.4 kB/s peers: 75) downloading \n",
            "4.16% complete (down: 2802.1 kb/s up: 125.6 kB/s peers: 18) downloading \n",
            "4.70% complete (down: 2738.4 kb/s up: 118.2 kB/s peers: 15) downloading \n",
            "5.41% complete (down: 3524.8 kb/s up: 136.1 kB/s peers: 16) downloading \n",
            "5.97% complete (down: 3293.4 kb/s up: 129.9 kB/s peers: 26) downloading \n",
            "6.60% complete (down: 3191.0 kb/s up: 125.3 kB/s peers: 38) downloading \n",
            "7.35% complete (down: 3670.5 kb/s up: 135.5 kB/s peers: 43) downloading \n",
            "8.03% complete (down: 3643.3 kb/s up: 132.6 kB/s peers: 35) downloading \n",
            "8.87% complete (down: 4075.0 kb/s up: 145.4 kB/s peers: 34) downloading \n",
            "9.62% complete (down: 4001.7 kb/s up: 142.5 kB/s peers: 35) downloading \n",
            "10.47% complete (down: 4232.0 kb/s up: 150.1 kB/s peers: 28) downloading \n",
            "11.17% complete (down: 4232.0 kb/s up: 160.8 kB/s peers: 37) downloading \n",
            "11.93% complete (down: 4000.8 kb/s up: 155.8 kB/s peers: 49) downloading \n",
            "12.56% complete (down: 3693.8 kb/s up: 148.0 kB/s peers: 115) downloading \n",
            "13.26% complete (down: 3808.6 kb/s up: 147.1 kB/s peers: 109) downloading \n",
            "13.98% complete (down: 3753.4 kb/s up: 142.9 kB/s peers: 92) downloading \n",
            "14.69% complete (down: 3819.3 kb/s up: 142.5 kB/s peers: 83) downloading \n",
            "15.42% complete (down: 3771.7 kb/s up: 141.1 kB/s peers: 52) downloading \n",
            "16.08% complete (down: 3708.4 kb/s up: 139.6 kB/s peers: 34) downloading \n",
            "16.75% complete (down: 3613.1 kb/s up: 139.2 kB/s peers: 47) downloading \n",
            "17.44% complete (down: 3663.8 kb/s up: 140.4 kB/s peers: 53) downloading \n",
            "18.18% complete (down: 3712.1 kb/s up: 140.9 kB/s peers: 54) downloading \n",
            "18.85% complete (down: 3743.4 kb/s up: 140.9 kB/s peers: 54) downloading \n",
            "19.54% complete (down: 3745.7 kb/s up: 138.4 kB/s peers: 53) downloading \n",
            "20.25% complete (down: 3755.6 kb/s up: 137.5 kB/s peers: 61) downloading \n",
            "20.99% complete (down: 3878.0 kb/s up: 137.2 kB/s peers: 65) downloading \n",
            "21.69% complete (down: 3945.7 kb/s up: 141.1 kB/s peers: 55) downloading \n",
            "22.42% complete (down: 3836.3 kb/s up: 138.4 kB/s peers: 64) downloading \n",
            "23.12% complete (down: 3730.8 kb/s up: 132.0 kB/s peers: 59) downloading \n",
            "23.83% complete (down: 3887.2 kb/s up: 138.2 kB/s peers: 82) downloading \n",
            "24.65% complete (down: 4120.1 kb/s up: 145.6 kB/s peers: 97) downloading \n",
            "25.51% complete (down: 4500.3 kb/s up: 154.7 kB/s peers: 93) downloading \n",
            "26.43% complete (down: 4705.5 kb/s up: 159.3 kB/s peers: 55) downloading \n",
            "27.32% complete (down: 4749.1 kb/s up: 161.0 kB/s peers: 62) downloading \n",
            "28.23% complete (down: 4838.7 kb/s up: 162.3 kB/s peers: 57) downloading \n",
            "29.11% complete (down: 4755.2 kb/s up: 158.3 kB/s peers: 48) downloading \n",
            "30.03% complete (down: 4626.9 kb/s up: 152.2 kB/s peers: 68) downloading \n",
            "30.87% complete (down: 4520.6 kb/s up: 148.2 kB/s peers: 68) downloading \n",
            "31.73% complete (down: 4448.8 kb/s up: 146.0 kB/s peers: 65) downloading \n",
            "32.56% complete (down: 4324.5 kb/s up: 142.2 kB/s peers: 72) downloading \n",
            "33.39% complete (down: 4505.4 kb/s up: 149.8 kB/s peers: 89) downloading \n",
            "34.18% complete (down: 4401.6 kb/s up: 144.3 kB/s peers: 83) downloading \n",
            "34.96% complete (down: 4298.4 kb/s up: 140.6 kB/s peers: 55) downloading \n",
            "35.71% complete (down: 4103.4 kb/s up: 133.9 kB/s peers: 61) downloading \n",
            "36.54% complete (down: 4148.0 kb/s up: 138.6 kB/s peers: 90) downloading \n",
            "37.28% complete (down: 4006.0 kb/s up: 136.4 kB/s peers: 90) downloading \n",
            "38.02% complete (down: 3909.6 kb/s up: 134.7 kB/s peers: 51) downloading \n",
            "38.71% complete (down: 3667.7 kb/s up: 130.2 kB/s peers: 62) downloading \n",
            "39.38% complete (down: 3853.0 kb/s up: 137.6 kB/s peers: 68) downloading \n",
            "40.12% complete (down: 3873.5 kb/s up: 136.0 kB/s peers: 57) downloading \n",
            "40.81% complete (down: 3840.8 kb/s up: 133.6 kB/s peers: 72) downloading \n",
            "41.52% complete (down: 3694.4 kb/s up: 128.4 kB/s peers: 76) downloading \n",
            "42.20% complete (down: 3695.8 kb/s up: 130.4 kB/s peers: 68) downloading \n",
            "42.88% complete (down: 3711.3 kb/s up: 130.2 kB/s peers: 68) downloading \n",
            "43.56% complete (down: 3849.3 kb/s up: 134.6 kB/s peers: 81) downloading \n",
            "44.26% complete (down: 3784.9 kb/s up: 133.1 kB/s peers: 78) downloading \n",
            "45.08% complete (down: 3846.2 kb/s up: 135.8 kB/s peers: 74) downloading \n",
            "45.84% complete (down: 4042.0 kb/s up: 140.3 kB/s peers: 70) downloading \n",
            "46.61% complete (down: 4166.7 kb/s up: 146.8 kB/s peers: 102) downloading \n",
            "47.44% complete (down: 4069.9 kb/s up: 141.8 kB/s peers: 104) downloading \n",
            "48.20% complete (down: 4322.5 kb/s up: 149.7 kB/s peers: 67) downloading \n",
            "49.09% complete (down: 4464.3 kb/s up: 156.6 kB/s peers: 71) downloading \n",
            "49.97% complete (down: 4501.8 kb/s up: 157.4 kB/s peers: 69) downloading \n",
            "50.71% complete (down: 4556.1 kb/s up: 158.3 kB/s peers: 71) downloading \n",
            "51.57% complete (down: 4445.0 kb/s up: 154.8 kB/s peers: 70) downloading \n",
            "52.45% complete (down: 4461.4 kb/s up: 155.5 kB/s peers: 93) downloading \n",
            "53.30% complete (down: 4611.5 kb/s up: 160.9 kB/s peers: 108) downloading \n",
            "54.21% complete (down: 4747.8 kb/s up: 165.8 kB/s peers: 91) downloading \n",
            "55.13% complete (down: 4752.2 kb/s up: 164.4 kB/s peers: 84) downloading \n",
            "56.06% complete (down: 4888.0 kb/s up: 165.5 kB/s peers: 85) downloading \n",
            "57.01% complete (down: 4886.5 kb/s up: 164.4 kB/s peers: 88) downloading \n",
            "57.98% complete (down: 5233.9 kb/s up: 178.3 kB/s peers: 82) downloading \n",
            "58.98% complete (down: 5257.2 kb/s up: 183.0 kB/s peers: 123) downloading \n",
            "60.04% complete (down: 5478.2 kb/s up: 185.9 kB/s peers: 127) downloading \n",
            "60.94% complete (down: 5014.8 kb/s up: 171.7 kB/s peers: 82) downloading \n",
            "61.80% complete (down: 4842.9 kb/s up: 166.1 kB/s peers: 69) downloading \n",
            "62.74% complete (down: 4895.2 kb/s up: 166.3 kB/s peers: 64) downloading \n",
            "63.80% complete (down: 4868.0 kb/s up: 163.1 kB/s peers: 70) downloading \n",
            "64.68% complete (down: 4800.9 kb/s up: 161.8 kB/s peers: 76) downloading \n",
            "65.59% complete (down: 4740.9 kb/s up: 160.6 kB/s peers: 89) downloading \n",
            "66.46% complete (down: 4781.9 kb/s up: 160.3 kB/s peers: 84) downloading \n",
            "67.33% complete (down: 4791.3 kb/s up: 163.2 kB/s peers: 77) downloading \n",
            "68.20% complete (down: 4680.3 kb/s up: 160.0 kB/s peers: 80) downloading \n",
            "69.12% complete (down: 4882.4 kb/s up: 168.2 kB/s peers: 72) downloading \n",
            "69.94% complete (down: 4671.0 kb/s up: 161.3 kB/s peers: 79) downloading \n",
            "70.75% complete (down: 4536.0 kb/s up: 155.1 kB/s peers: 73) downloading \n",
            "71.58% complete (down: 4463.2 kb/s up: 155.8 kB/s peers: 122) downloading \n",
            "72.38% complete (down: 4186.5 kb/s up: 156.5 kB/s peers: 125) downloading \n",
            "73.06% complete (down: 3798.9 kb/s up: 150.9 kB/s peers: 97) downloading \n",
            "73.85% complete (down: 3912.6 kb/s up: 145.4 kB/s peers: 80) downloading \n",
            "74.57% complete (down: 3990.3 kb/s up: 144.0 kB/s peers: 80) downloading \n",
            "75.33% complete (down: 4161.3 kb/s up: 145.8 kB/s peers: 86) downloading \n",
            "76.05% complete (down: 4266.7 kb/s up: 149.5 kB/s peers: 86) downloading \n",
            "76.94% complete (down: 4230.3 kb/s up: 149.7 kB/s peers: 89) downloading \n",
            "77.87% complete (down: 4488.1 kb/s up: 156.7 kB/s peers: 88) downloading \n",
            "78.71% complete (down: 4453.1 kb/s up: 156.8 kB/s peers: 91) downloading \n",
            "79.53% complete (down: 4323.8 kb/s up: 149.3 kB/s peers: 82) downloading \n",
            "80.33% complete (down: 4266.5 kb/s up: 151.0 kB/s peers: 85) downloading \n",
            "81.01% complete (down: 3979.5 kb/s up: 144.7 kB/s peers: 90) downloading \n",
            "81.74% complete (down: 3836.5 kb/s up: 137.7 kB/s peers: 77) downloading \n",
            "82.39% complete (down: 3661.5 kb/s up: 129.7 kB/s peers: 110) downloading \n",
            "83.21% complete (down: 3956.9 kb/s up: 139.6 kB/s peers: 126) downloading \n",
            "83.91% complete (down: 3838.9 kb/s up: 136.2 kB/s peers: 115) downloading \n",
            "84.63% complete (down: 3814.0 kb/s up: 135.6 kB/s peers: 80) downloading \n",
            "85.42% complete (down: 3924.5 kb/s up: 140.4 kB/s peers: 89) downloading \n",
            "86.16% complete (down: 4115.1 kb/s up: 147.7 kB/s peers: 103) downloading \n",
            "87.02% complete (down: 4220.3 kb/s up: 157.4 kB/s peers: 96) downloading \n",
            "87.70% complete (down: 4078.0 kb/s up: 150.3 kB/s peers: 97) downloading \n",
            "88.55% complete (down: 4178.9 kb/s up: 150.5 kB/s peers: 99) downloading \n",
            "89.33% complete (down: 4241.7 kb/s up: 149.7 kB/s peers: 90) downloading \n",
            "90.13% complete (down: 4253.8 kb/s up: 147.3 kB/s peers: 77) downloading \n",
            "90.91% complete (down: 4303.4 kb/s up: 147.9 kB/s peers: 88) downloading \n",
            "91.67% complete (down: 4132.5 kb/s up: 141.6 kB/s peers: 95) downloading \n",
            "92.43% complete (down: 4002.5 kb/s up: 153.3 kB/s peers: 93) downloading \n",
            "93.15% complete (down: 3926.8 kb/s up: 155.3 kB/s peers: 102) downloading \n",
            "93.92% complete (down: 4164.5 kb/s up: 160.7 kB/s peers: 124) downloading \n",
            "94.62% complete (down: 3774.3 kb/s up: 140.9 kB/s peers: 110) downloading \n",
            "95.23% complete (down: 3380.0 kb/s up: 125.1 kB/s peers: 82) downloading \n",
            "95.89% complete (down: 3513.3 kb/s up: 139.2 kB/s peers: 79) downloading \n",
            "96.68% complete (down: 3906.9 kb/s up: 148.8 kB/s peers: 80) downloading \n",
            "97.47% complete (down: 4186.1 kb/s up: 157.1 kB/s peers: 86) downloading \n",
            "98.26% complete (down: 4134.6 kb/s up: 153.2 kB/s peers: 89) downloading \n",
            "99.01% complete (down: 3975.9 kb/s up: 149.5 kB/s peers: 95) downloading \n",
            "99.72% complete (down: 3567.6 kb/s up: 132.2 kB/s peers: 97) downloading \n",
            "Avengers Infinity War (2018) [BluRay] [1080p] [YTS.AM] COMPLETE\n",
            "Elapsed Time:  10 min : 58 sec\n",
            "2023-01-25 08:13:26.867617\n"
          ]
        }
      ],
      "source": [
        "import libtorrent as lt\n",
        "import time\n",
        "import datetime\n",
        "\n",
        "ses = lt.session()\n",
        "ses.listen_on(6881, 6891)\n",
        "params = {\n",
        "    'save_path': '/torrents',\n",
        "    'storage_mode': lt.storage_mode_t(2),\n",
        "    'paused': False,\n",
        "    'auto_managed': True,\n",
        "    'duplicate_is_error': True}\n",
        "print(torrentMagentLink)\n",
        "\n",
        "handle = lt.add_magnet_uri(ses, torrentMagentLink, params)\n",
        "ses.start_dht()\n",
        "\n",
        "begin = time.time()\n",
        "print(datetime.datetime.now())\n",
        "\n",
        "print ('Downloading Metadata...')\n",
        "while (not handle.has_metadata()):\n",
        "    time.sleep(1)\n",
        "print ('Got Metadata, Starting Torrent Download...')\n",
        "\n",
        "torrentFolderName = handle.name()\n",
        "print(\"Starting\", handle.name())\n",
        "\n",
        "while (handle.status().state != lt.torrent_status.seeding):\n",
        "    s = handle.status()\n",
        "    state_str = ['queued', 'checking', 'downloading metadata', \\\n",
        "            'downloading', 'finished', 'seeding', 'allocating']\n",
        "    print ('%.2f%% complete (down: %.1f kb/s up: %.1f kB/s peers: %d) %s ' % \\\n",
        "            (s.progress * 100, s.download_rate / 1000, s.upload_rate / 1000, \\\n",
        "            s.num_peers, state_str[s.state]))\n",
        "    time.sleep(5)\n",
        "\n",
        "end = time.time()\n",
        "print(handle.name(), \"COMPLETE\")\n",
        "\n",
        "print(\"Elapsed Time: \",int((end-begin)//60),\"min :\", int((end-begin)%60), \"sec\")\n",
        "\n",
        "print(datetime.datetime.now())"
      ]
    },
    {
      "cell_type": "code",
      "source": [],
      "metadata": {
        "id": "OIVjlV898MVs"
      },
      "execution_count": null,
      "outputs": []
    },
    {
      "cell_type": "markdown",
      "metadata": {
        "id": "KmsrjllZrcXv"
      },
      "source": [
        "### Create a Zip of the downloaded torrent"
      ]
    },
    {
      "cell_type": "code",
      "execution_count": null,
      "metadata": {
        "colab": {
          "base_uri": "https://localhost:8080/"
        },
        "id": "E8Y8Yo7JiS9-",
        "outputId": "b0c6a224-fdb3-407e-bb20-c24b38a53ce5"
      },
      "outputs": [
        {
          "output_type": "stream",
          "name": "stdout",
          "text": [
            "Compression Successful\n",
            "Elapsed Time:  1 min : 59 sec\n"
          ]
        }
      ],
      "source": [
        "import shutil\n",
        "begin = time.time()\n",
        "shutil.make_archive(torrentFolderName, 'zip', \"/torrents/\"+torrentFolderName)\n",
        "end = time.time()\n",
        "print(\"Compression Successful\")\n",
        "print(\"Elapsed Time: \",int((end-begin)//60),\"min :\", int((end-begin)%60), \"sec\")\n"
      ]
    },
    {
      "cell_type": "markdown",
      "metadata": {
        "id": "k0EvgywVrP_e"
      },
      "source": [
        "### Upload Zip To Mega"
      ]
    },
    {
      "cell_type": "code",
      "execution_count": null,
      "metadata": {
        "id": "sIbtOK28TAfb"
      },
      "outputs": [],
      "source": [
        "from mega import Mega\n",
        "mega = Mega()\n",
        "\n",
        "# Login\n",
        "# Add your credentials here\n",
        "\n",
        "m = mega.login(megaEmail,megaPassword)\n",
        "\n",
        "\n",
        "begin = time.time()\n",
        "\n",
        "# Upload File\n",
        "file = m.upload('/content/'+torrentFolderName+\".zip\")\n",
        "end = time.time()\n",
        "print(torrentFolderName, \"COMPLETE\")\n",
        "\n",
        "print(\"Elapsed Time: \",int((end-begin)//60),\"min :\", int((end-begin)%60), \"sec\")\n"
      ]
    }
  ],
  "metadata": {
    "colab": {
      "provenance": [],
      "toc_visible": true,
      "include_colab_link": true
    },
    "kernelspec": {
      "display_name": "Python 3",
      "name": "python3"
    }
  },
  "nbformat": 4,
  "nbformat_minor": 0
}